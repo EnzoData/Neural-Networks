{
 "cells": [
  {
   "cell_type": "code",
   "execution_count": 1,
   "metadata": {},
   "outputs": [],
   "source": [
    "import tensorflow as tf\n",
    "from tensorflow import keras\n",
    "import numpy\n",
    "\n",
    "imdb = keras.datasets.imdb\n",
    "\n",
    "(train_data, train_labels), (test_data, test_labels) = imdb.load_data(num_words=88000)"
   ]
  },
  {
   "cell_type": "code",
   "execution_count": 2,
   "metadata": {},
   "outputs": [],
   "source": [
    "# A dictionary mapping words to an integer index\n",
    "_word_index = imdb.get_word_index()\n",
    "\n",
    "word_index = {k:(v+3) for k,v in _word_index.items()}\n",
    "word_index[\"<PAD>\"] = 0\n",
    "word_index[\"<START>\"] = 1\n",
    "word_index[\"<UNK>\"] = 2  # unknown\n",
    "word_index[\"<UNUSED>\"] = 3\n",
    "\n",
    "reverse_word_index = dict([(value, key) for (key, value) in word_index.items()])\n",
    "\n",
    "def decode_review(text):\n",
    "\treturn \" \".join([reverse_word_index.get(i, \"?\") for i in text])\n",
    "\n",
    "# this function will return the decoded (human readable) reviews"
   ]
  },
  {
   "cell_type": "code",
   "execution_count": 3,
   "metadata": {},
   "outputs": [],
   "source": [
    "train_data = keras.preprocessing.sequence.pad_sequences(train_data, value=word_index[\"<PAD>\"], padding=\"post\", maxlen=250)\n",
    "test_data = keras.preprocessing.sequence.pad_sequences(test_data, value=word_index[\"<PAD>\"], padding=\"post\", maxlen=250)"
   ]
  },
  {
   "cell_type": "code",
   "execution_count": 4,
   "metadata": {},
   "outputs": [
    {
     "name": "stdout",
     "output_type": "stream",
     "text": [
      "Model: \"sequential\"\n",
      "_________________________________________________________________\n",
      "Layer (type)                 Output Shape              Param #   \n",
      "=================================================================\n",
      "embedding (Embedding)        (None, None, 16)          1408000   \n",
      "_________________________________________________________________\n",
      "global_average_pooling1d (Gl (None, 16)                0         \n",
      "_________________________________________________________________\n",
      "dense (Dense)                (None, 16)                272       \n",
      "_________________________________________________________________\n",
      "dense_1 (Dense)              (None, 1)                 17        \n",
      "=================================================================\n",
      "Total params: 1,408,289\n",
      "Trainable params: 1,408,289\n",
      "Non-trainable params: 0\n",
      "_________________________________________________________________\n"
     ]
    }
   ],
   "source": [
    "model = keras.Sequential()\n",
    "model.add(keras.layers.Embedding(88000, 16))\n",
    "model.add(keras.layers.GlobalAveragePooling1D())\n",
    "model.add(keras.layers.Dense(16, activation=\"relu\"))\n",
    "model.add(keras.layers.Dense(1, activation=\"sigmoid\"))\n",
    "\n",
    "model.summary()  # prints a summary of the model"
   ]
  },
  {
   "cell_type": "code",
   "execution_count": 5,
   "metadata": {},
   "outputs": [],
   "source": [
    "model.compile(optimizer = \"adam\",loss = \"binary_crossentropy\", metrics =[\"accuracy\"])"
   ]
  },
  {
   "cell_type": "code",
   "execution_count": 6,
   "metadata": {},
   "outputs": [],
   "source": [
    "x_val = train_data[:10000]\n",
    "x_train = train_data[10000:]\n",
    "\n",
    "y_val = train_labels[:10000]\n",
    "y_train = train_labels[10000:]"
   ]
  },
  {
   "cell_type": "code",
   "execution_count": 7,
   "metadata": {},
   "outputs": [
    {
     "name": "stdout",
     "output_type": "stream",
     "text": [
      "Train on 15000 samples, validate on 10000 samples\n",
      "Epoch 1/40\n",
      "15000/15000 [==============================] - 1s 99us/sample - loss: 0.6920 - accuracy: 0.5487 - val_loss: 0.6900 - val_accuracy: 0.6442\n",
      "Epoch 2/40\n",
      "15000/15000 [==============================] - 1s 76us/sample - loss: 0.6864 - accuracy: 0.7153 - val_loss: 0.6824 - val_accuracy: 0.7364\n",
      "Epoch 3/40\n",
      "15000/15000 [==============================] - 1s 75us/sample - loss: 0.6740 - accuracy: 0.7619 - val_loss: 0.6669 - val_accuracy: 0.7457\n",
      "Epoch 4/40\n",
      "15000/15000 [==============================] - 1s 76us/sample - loss: 0.6517 - accuracy: 0.7846 - val_loss: 0.6419 - val_accuracy: 0.7512\n",
      "Epoch 5/40\n",
      "15000/15000 [==============================] - 1s 86us/sample - loss: 0.6180 - accuracy: 0.8069 - val_loss: 0.6077 - val_accuracy: 0.7824\n",
      "Epoch 6/40\n",
      "15000/15000 [==============================] - 1s 76us/sample - loss: 0.5744 - accuracy: 0.8250 - val_loss: 0.5674 - val_accuracy: 0.8072\n",
      "Epoch 7/40\n",
      "15000/15000 [==============================] - 1s 75us/sample - loss: 0.5249 - accuracy: 0.8421 - val_loss: 0.5238 - val_accuracy: 0.8197\n",
      "Epoch 8/40\n",
      "15000/15000 [==============================] - 1s 75us/sample - loss: 0.4746 - accuracy: 0.8590 - val_loss: 0.4832 - val_accuracy: 0.8317\n",
      "Epoch 9/40\n",
      "15000/15000 [==============================] - 1s 76us/sample - loss: 0.4269 - accuracy: 0.8745 - val_loss: 0.4460 - val_accuracy: 0.8424\n",
      "Epoch 10/40\n",
      "15000/15000 [==============================] - 1s 75us/sample - loss: 0.3836 - accuracy: 0.8888 - val_loss: 0.4144 - val_accuracy: 0.8513\n",
      "Epoch 11/40\n",
      "15000/15000 [==============================] - 1s 76us/sample - loss: 0.3458 - accuracy: 0.8991 - val_loss: 0.3880 - val_accuracy: 0.8597\n",
      "Epoch 12/40\n",
      "15000/15000 [==============================] - 1s 76us/sample - loss: 0.3132 - accuracy: 0.9070 - val_loss: 0.3668 - val_accuracy: 0.8656\n",
      "Epoch 13/40\n",
      "15000/15000 [==============================] - 1s 77us/sample - loss: 0.2859 - accuracy: 0.9139 - val_loss: 0.3483 - val_accuracy: 0.8693\n",
      "Epoch 14/40\n",
      "15000/15000 [==============================] - 1s 78us/sample - loss: 0.2611 - accuracy: 0.9216 - val_loss: 0.3342 - val_accuracy: 0.8741\n",
      "Epoch 15/40\n",
      "15000/15000 [==============================] - 1s 87us/sample - loss: 0.2401 - accuracy: 0.9285 - val_loss: 0.3232 - val_accuracy: 0.8766\n",
      "Epoch 16/40\n",
      "15000/15000 [==============================] - 1s 84us/sample - loss: 0.2213 - accuracy: 0.9350 - val_loss: 0.3131 - val_accuracy: 0.8764\n",
      "Epoch 17/40\n",
      "15000/15000 [==============================] - 1s 78us/sample - loss: 0.2042 - accuracy: 0.9411 - val_loss: 0.3055 - val_accuracy: 0.8830\n",
      "Epoch 18/40\n",
      "15000/15000 [==============================] - 1s 90us/sample - loss: 0.1889 - accuracy: 0.9457 - val_loss: 0.2984 - val_accuracy: 0.8820\n",
      "Epoch 19/40\n",
      "15000/15000 [==============================] - 1s 93us/sample - loss: 0.1751 - accuracy: 0.9501 - val_loss: 0.2928 - val_accuracy: 0.8841\n",
      "Epoch 20/40\n",
      "15000/15000 [==============================] - 1s 75us/sample - loss: 0.1629 - accuracy: 0.9548 - val_loss: 0.2891 - val_accuracy: 0.8856\n",
      "Epoch 21/40\n",
      "15000/15000 [==============================] - 1s 75us/sample - loss: 0.1510 - accuracy: 0.9591 - val_loss: 0.2850 - val_accuracy: 0.8864\n",
      "Epoch 22/40\n",
      "15000/15000 [==============================] - 1s 75us/sample - loss: 0.1408 - accuracy: 0.9645 - val_loss: 0.2824 - val_accuracy: 0.8870\n",
      "Epoch 23/40\n",
      "15000/15000 [==============================] - 1s 89us/sample - loss: 0.1308 - accuracy: 0.9676 - val_loss: 0.2815 - val_accuracy: 0.8870\n",
      "Epoch 24/40\n",
      "15000/15000 [==============================] - 1s 76us/sample - loss: 0.1223 - accuracy: 0.9698 - val_loss: 0.2784 - val_accuracy: 0.8877\n",
      "Epoch 25/40\n",
      "15000/15000 [==============================] - 1s 84us/sample - loss: 0.1139 - accuracy: 0.9728 - val_loss: 0.2771 - val_accuracy: 0.8884\n",
      "Epoch 26/40\n",
      "15000/15000 [==============================] - 1s 84us/sample - loss: 0.1064 - accuracy: 0.9765 - val_loss: 0.2774 - val_accuracy: 0.8876\n",
      "Epoch 27/40\n",
      "15000/15000 [==============================] - 1s 77us/sample - loss: 0.0995 - accuracy: 0.9784 - val_loss: 0.2766 - val_accuracy: 0.8881\n",
      "Epoch 28/40\n",
      "15000/15000 [==============================] - 1s 82us/sample - loss: 0.0930 - accuracy: 0.9807 - val_loss: 0.2757 - val_accuracy: 0.8901\n",
      "Epoch 29/40\n",
      "15000/15000 [==============================] - 1s 80us/sample - loss: 0.0873 - accuracy: 0.9822 - val_loss: 0.2785 - val_accuracy: 0.8884\n",
      "Epoch 30/40\n",
      "15000/15000 [==============================] - 1s 81us/sample - loss: 0.0820 - accuracy: 0.9834 - val_loss: 0.2771 - val_accuracy: 0.8894\n",
      "Epoch 31/40\n",
      "15000/15000 [==============================] - 1s 77us/sample - loss: 0.0764 - accuracy: 0.9858 - val_loss: 0.2773 - val_accuracy: 0.8899\n",
      "Epoch 32/40\n",
      "15000/15000 [==============================] - 1s 76us/sample - loss: 0.0716 - accuracy: 0.9871 - val_loss: 0.2786 - val_accuracy: 0.8901\n",
      "Epoch 33/40\n",
      "15000/15000 [==============================] - 1s 76us/sample - loss: 0.0671 - accuracy: 0.9877 - val_loss: 0.2798 - val_accuracy: 0.8898\n",
      "Epoch 34/40\n",
      "15000/15000 [==============================] - 1s 75us/sample - loss: 0.0630 - accuracy: 0.9884 - val_loss: 0.2813 - val_accuracy: 0.8896\n",
      "Epoch 35/40\n",
      "15000/15000 [==============================] - 1s 75us/sample - loss: 0.0597 - accuracy: 0.9893 - val_loss: 0.2830 - val_accuracy: 0.8896\n",
      "Epoch 36/40\n",
      "15000/15000 [==============================] - 1s 78us/sample - loss: 0.0558 - accuracy: 0.9905 - val_loss: 0.2850 - val_accuracy: 0.8894\n",
      "Epoch 37/40\n",
      "15000/15000 [==============================] - 1s 82us/sample - loss: 0.0524 - accuracy: 0.9917 - val_loss: 0.2868 - val_accuracy: 0.8892\n",
      "Epoch 38/40\n",
      "15000/15000 [==============================] - 1s 78us/sample - loss: 0.0494 - accuracy: 0.9924 - val_loss: 0.2903 - val_accuracy: 0.8877\n",
      "Epoch 39/40\n",
      "15000/15000 [==============================] - 2s 100us/sample - loss: 0.0470 - accuracy: 0.9927 - val_loss: 0.2907 - val_accuracy: 0.8886\n",
      "Epoch 40/40\n",
      "15000/15000 [==============================] - 1s 90us/sample - loss: 0.0439 - accuracy: 0.9937 - val_loss: 0.2935 - val_accuracy: 0.8888\n"
     ]
    }
   ],
   "source": [
    "fitModel = model.fit(x_train, y_train, epochs=40, batch_size=512, validation_data=(x_val, y_val), verbose=1)"
   ]
  },
  {
   "cell_type": "code",
   "execution_count": 8,
   "metadata": {},
   "outputs": [
    {
     "name": "stdout",
     "output_type": "stream",
     "text": [
      "25000/25000 [==============================] - 1s 35us/sample - loss: 0.3253 - accuracy: 0.8732\n",
      "[0.3253429797410965, 0.87324]\n"
     ]
    }
   ],
   "source": [
    "results = model.evaluate(test_data, test_labels)\n",
    "print(results)"
   ]
  },
  {
   "cell_type": "code",
   "execution_count": 9,
   "metadata": {},
   "outputs": [
    {
     "name": "stdout",
     "output_type": "stream",
     "text": [
      "Review: \n",
      "<START> please give this one a miss br br kristy swanson and the rest of the cast rendered terrible performances the show is flat flat flat br br i don't know how michael madison could have allowed this one on his plate he almost seemed to know this wasn't going to work out and his performance was quite lacklustre so all you madison fans give this a miss <PAD> <PAD> <PAD> <PAD> <PAD> <PAD> <PAD> <PAD> <PAD> <PAD> <PAD> <PAD> <PAD> <PAD> <PAD> <PAD> <PAD> <PAD> <PAD> <PAD> <PAD> <PAD> <PAD> <PAD> <PAD> <PAD> <PAD> <PAD> <PAD> <PAD> <PAD> <PAD> <PAD> <PAD> <PAD> <PAD> <PAD> <PAD> <PAD> <PAD> <PAD> <PAD> <PAD> <PAD> <PAD> <PAD> <PAD> <PAD> <PAD> <PAD> <PAD> <PAD> <PAD> <PAD> <PAD> <PAD> <PAD> <PAD> <PAD> <PAD> <PAD> <PAD> <PAD> <PAD> <PAD> <PAD> <PAD> <PAD> <PAD> <PAD> <PAD> <PAD> <PAD> <PAD> <PAD> <PAD> <PAD> <PAD> <PAD> <PAD> <PAD> <PAD> <PAD> <PAD> <PAD> <PAD> <PAD> <PAD> <PAD> <PAD> <PAD> <PAD> <PAD> <PAD> <PAD> <PAD> <PAD> <PAD> <PAD> <PAD> <PAD> <PAD> <PAD> <PAD> <PAD> <PAD> <PAD> <PAD> <PAD> <PAD> <PAD> <PAD> <PAD> <PAD> <PAD> <PAD> <PAD> <PAD> <PAD> <PAD> <PAD> <PAD> <PAD> <PAD> <PAD> <PAD> <PAD> <PAD> <PAD> <PAD> <PAD> <PAD> <PAD> <PAD> <PAD> <PAD> <PAD> <PAD> <PAD> <PAD> <PAD> <PAD> <PAD> <PAD> <PAD> <PAD> <PAD> <PAD> <PAD> <PAD> <PAD> <PAD> <PAD> <PAD> <PAD> <PAD> <PAD> <PAD> <PAD> <PAD> <PAD> <PAD> <PAD> <PAD> <PAD> <PAD> <PAD> <PAD> <PAD> <PAD> <PAD> <PAD> <PAD> <PAD> <PAD> <PAD> <PAD> <PAD> <PAD> <PAD> <PAD> <PAD>\n",
      "Prediction: [0.]\n",
      "Actual: 0\n",
      "[0.3253429797410965, 0.87324]\n"
     ]
    }
   ],
   "source": [
    "test_review = test_data[0]\n",
    "predict = model.predict([test_review])\n",
    "print(\"Review: \")\n",
    "print(decode_review(test_review))\n",
    "print(\"Prediction: \" + str(predict[0]))\n",
    "print(\"Actual: \" + str(test_labels[0]))\n",
    "print(results)"
   ]
  },
  {
   "cell_type": "code",
   "execution_count": 10,
   "metadata": {},
   "outputs": [],
   "source": [
    "model.save(\"model.h5\")"
   ]
  },
  {
   "cell_type": "code",
   "execution_count": 11,
   "metadata": {},
   "outputs": [],
   "source": [
    "model = keras.models.load_model(\"model.h5\")"
   ]
  },
  {
   "cell_type": "code",
   "execution_count": 17,
   "metadata": {},
   "outputs": [],
   "source": [
    "def review_encode(s):\n",
    "\tencoded = [1]\n",
    "\n",
    "\tfor word in s:\n",
    "\t\tif word.lower() in word_index:\n",
    "\t\t\tencoded.append(word_index[word.lower()])\n",
    "\t\telse:\n",
    "\t\t\tencoded.append(2)\n",
    "\n",
    "\treturn encoded"
   ]
  },
  {
   "cell_type": "code",
   "execution_count": 18,
   "metadata": {},
   "outputs": [
    {
     "name": "stdout",
     "output_type": "stream",
     "text": [
      "Of all the animation classics from the Walt Disney Company, there is perhaps none that is more celebrated than \"The Lion King.\" Its acclaim is understandable: this is quite simply a glorious work of art.\"The Lion King\" gets off to a fantastic start. The film's opening number, \"The Circle of Life,\" is outstanding. The song lasts for about four minutes, but from the first sound, the audience is floored. Not even National Geographic can capture something this beautiful and dramatic. Not only is this easily the greatest moment in film animation, this is one of the greatest sequences in film history. The story that follows is not as majestic, but the film has to tell a story. Actually, the rest of the film holds up quite well. The story takes place in Africa, where the lions rule. Their king, Mufasa (James Earl Jones) has just been blessed with a son, Simba (Jonathan Taylor Thomas), who goes in front of his uncle Scar (Jeremy Irons) as next in line for the throne. Scar is furious, and sets in motion plans to usurp the throne for himself. After a tragedy occurs and Mufasa is killed, Scar persuades Simba to flee, leaving himself as king. Simba grows up in exile, but he learns that while he can run away from his past, he can never escape it. When viewing the film, it is obvious that \"The Lion King\" is quite different from its predecessors (and successors). This is an epic story that contains more dramatic power than all the other Disney films combined. While there are definitely some light-hearted moments, there is no denying the dark drama that takes up the bulk of the story. While it could be argued that Disney is the champion of family entertainment, this film is not for the very young. Some of the sequences are very dark and violent, many bordering on frightening, even for the older crowd.The voice actors are terrific. Jonathan Taylor Thomas brings a large dose of innocence to Young Simba. He's mischievous, but also terribly naive. His older counterpart, voiced by Matthew Broderick, equals him. He's older, but no less mature. The voices are so similar that it's almost impossible not to believe that they are the same character at different ages. Perhaps no one could have been better suited for the role of Mufasa than James Earl Jones. His baritone voice gives the Mufasa a quality of great power and wisdom; there is no question that his role is king. As Scar, Jeremy Irons is pitch-perfect. The drawing of the character is villainous, but Irons' vocal work complements the animation to create one of the most memorable, and vicious, villains in Disney history. He's unquestionably evil, but he's also clever, which makes him all the more dangerous. Manipulation, not violence is his greatest weapon. Providing some much needed comic relief are Nathan Lane and Ernie Sabella as Timon and Pumbaa, two other outcasts (a meerkat and a warthog), and Rowan Atkinson as Zazu. While there is definite fun from these characters, neither the actors nor the filmmakers allow them to go over-the-top and destroy the mood of the film.Disney's animated features are known for their gorgeous artwork. Nowhere is this more apparent than in \"The Lion King.\" Every single frame is jaw-dropping. The colors are rich, and the drawings are sharp and beautiful. One of the pitfalls of animation (both computer and hand-drawn) is that there is sometimes a visible distance between the subject and the background, making it seem as if the figure animation was cut and pasted on the background (this is obviously what happens, but it is up to the artists to make sure that it isn't noticeable). There is none of that here.Throughout the Golden Age of Disney animation, the films have been musicals. \"The Lion King\" is no different, and the songs are brilliant. All of the numbers are standouts (\"Can You Feel the Love Tonight\" won the Oscar, but in my opinion, \"The Circle of Life\" was better). In the cases of Simba and Nala (Simba's girlfriend), both young and old, there is a noticeable difference between the speaking and singing parts (everyone else does their own singing and speaking), but never mind. It still works, and that's what's important.\"The Lion King\" is not flawless, but on first viewing, they aren't noticeable, and it is likely that the young won't ever notice them. \"Beauty and the Beast\" was the first animated film to get an Oscar nomination for Best Picture (it lost to \"The Silence of the Lambs\"), and is thus far the only animated film to receive such an honor. That being the case, it's hard to understand why \"The Lion King\" was not given the same distinction. The two films are more or less equal in quality, and the nominees for the honor that year were not strong. If you haven't already, see \"The Lion King.\" You won't be disappointed.\n",
      "[[    6  4687  3744   200     4   875     5     4   978   231    12   306\n",
      "     17    48     4   822   748    16   605     5 12625    23     4   978\n",
      "     14     9   540    51   571    21    12     9    56     8     4  2719\n",
      "      8    97   252    15    12   218  6456    50     9   600     7    15\n",
      "      2     4  2050   559     7   910   748     4   108    28    77  2769\n",
      "      4  3082   711     9    57   275     5     4   690    26   530    32\n",
      "      7     4  1396    26 16015    70    25   235     4   119  4487  1199\n",
      "      4   735    21    11    61   652     4  4246     7   113    16   128\n",
      "     11     4  2936     7 10539     5 35738 20403   980   199   185     5\n",
      "    154    50     9     6  6456  1474   200     4  1386     5  1118   531\n",
      "    316   334   127    68   205  1118     5  1386    21   115   330    12\n",
      "    131   495     5   198   803     2  3082   711     9    24  3562    21\n",
      "     23    86   829    36   713  6456     5    12     9  1329    15     4\n",
      "    185   528   126  1495    98   936     5     4  2773    16     4    86\n",
      "   1125    22     8    79    35   735  4372    18   118   431    12   416\n",
      "      8     4  3542     7     4 10721     5     9  1346   230     4    64\n",
      "   1125    22     8  3911   141    35  2898    15   112     4   420    45\n",
      "    254     8   391   138     4  3082   711    16    24   348     4   172\n",
      "   8076     4   107   108    26    53    42   329  3215    11   489     5\n",
      "      4 13341    18     4  2898    15   291    71    24   565    48    25\n",
      "    774   460    67     4  3082   711    25   528    30   685]]\n",
      "[0.9715936]\n"
     ]
    }
   ],
   "source": [
    "with open(\"test.txt\", encoding=\"utf-8\") as f:\n",
    "    for line in f.readlines():\n",
    "        nline = line.replace(\",\", \"\").replace(\".\", \"\").replace(\"(\", \"\").replace(\")\", \"\").replace(\":\", \"\").replace(\"\\\"\",\"\").strip().split(\" \")\n",
    "        encode = review_encode(nline)\n",
    "        encode = keras.preprocessing.sequence.pad_sequences([encode], value=word_index[\"<PAD>\"], padding=\"post\", maxlen=250) # make the data 250 words long\n",
    "        predict = model.predict(encode)\n",
    "        print(line)\n",
    "        print(encode)\n",
    "        print(predict[0])"
   ]
  },
  {
   "cell_type": "code",
   "execution_count": null,
   "metadata": {},
   "outputs": [],
   "source": []
  }
 ],
 "metadata": {
  "kernelspec": {
   "display_name": "Python 3",
   "language": "python",
   "name": "python3"
  },
  "language_info": {
   "codemirror_mode": {
    "name": "ipython",
    "version": 3
   },
   "file_extension": ".py",
   "mimetype": "text/x-python",
   "name": "python",
   "nbconvert_exporter": "python",
   "pygments_lexer": "ipython3",
   "version": "3.7.3"
  }
 },
 "nbformat": 4,
 "nbformat_minor": 2
}
